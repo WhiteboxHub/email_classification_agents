{
 "cells": [
  {
   "cell_type": "code",
   "execution_count": null,
   "metadata": {},
   "outputs": [],
   "source": [
    "pip install transformers torch pandas scikit-learn\n"
   ]
  },
  {
   "cell_type": "markdown",
   "metadata": {},
   "source": [
    "# Data Preprocessing "
   ]
  },
  {
   "cell_type": "code",
   "execution_count": 4,
   "metadata": {},
   "outputs": [
    {
     "name": "stdout",
     "output_type": "stream",
     "text": [
      "Data preprocessing complete.\n"
     ]
    }
   ],
   "source": [
    "import pandas as pd\n",
    "from sklearn.model_selection import train_test_split\n",
    "from transformers import BertTokenizer\n",
    "import ast\n",
    "\n",
    "# Load your dataset\n",
    "df = pd.read_csv('/Users/innovapathinc/Downloads/Agentic_AI_1st/Agentic_AI/Agentic_AI/job_classification_project/data/jobs.csv')\n",
    "\n",
    "# Data Cleaning\n",
    "def clean_text(text):\n",
    "    # Convert to lowercase and remove extra spaces\n",
    "    text = text.lower().replace('  ', ' ')\n",
    "    return text\n",
    "\n",
    "# Apply cleaning to relevant columns\n",
    "df['Job Title'] = df['Job Title'].apply(clean_text)\n",
    "df['Key Skills'] = df['Key Skills'].apply(clean_text)\n",
    "df['Role Category'] = df['Role Category'].apply(clean_text)\n",
    "df['Functional Area'] = df['Functional Area'].apply(clean_text)\n",
    "df['Industry'] = df['Industry'].apply(clean_text)\n",
    "\n",
    "# Tokenization\n",
    "tokenizer = BertTokenizer.from_pretrained('bert-base-uncased')\n",
    "\n",
    "def tokenize_text(text, tokenizer, max_length=512):\n",
    "    return tokenizer.encode_plus(\n",
    "        text,\n",
    "        add_special_tokens=True,\n",
    "        max_length=max_length,\n",
    "        padding='max_length',\n",
    "        truncation=True,\n",
    "        return_attention_mask=True,\n",
    "        return_tensors='pt'\n",
    "    )\n",
    "\n",
    "# Combine relevant columns into a single text field for tokenization\n",
    "df['combined_text'] = df['Job Title'] + ' ' + df['Key Skills'] + ' ' + df['Role Category'] + ' ' + df['Functional Area'] + ' ' + df['Industry']\n",
    "\n",
    "# Apply tokenization to the combined text\n",
    "df['input_ids'] = df['combined_text'].apply(lambda x: tokenize_text(x, tokenizer)['input_ids'].flatten().tolist())\n",
    "df['attention_mask'] = df['combined_text'].apply(lambda x: tokenize_text(x, tokenizer)['attention_mask'].flatten().tolist())\n",
    "\n",
    "# Data Splitting\n",
    "train_df, temp_df = train_test_split(df, test_size=0.3, random_state=42)\n",
    "valid_df, test_df = train_test_split(temp_df, test_size=0.5, random_state=42)\n",
    "\n",
    "# Save the splits to CSV files\n",
    "train_df.to_csv('train_data.csv', index=False)\n",
    "valid_df.to_csv('valid_data.csv', index=False)\n",
    "test_df.to_csv('test_data.csv', index=False)\n",
    "\n",
    "print(\"Data preprocessing complete.\")\n"
   ]
  },
  {
   "cell_type": "code",
   "execution_count": 5,
   "metadata": {},
   "outputs": [
    {
     "name": "stderr",
     "output_type": "stream",
     "text": [
      "Some weights of BertForSequenceClassification were not initialized from the model checkpoint at bert-base-uncased and are newly initialized: ['classifier.bias', 'classifier.weight']\n",
      "You should probably TRAIN this model on a down-stream task to be able to use it for predictions and inference.\n"
     ]
    }
   ],
   "source": [
    "from transformers import BertForSequenceClassification, BertTokenizer, AdamW\n",
    "import torch\n",
    "from torch.utils.data import DataLoader, Dataset\n",
    "from sklearn.metrics import accuracy_score\n",
    "import pandas as pd\n",
    "import ast\n",
    "\n",
    "# Load the tokenizer and model\n",
    "tokenizer = BertTokenizer.from_pretrained('bert-base-uncased')\n",
    "model = BertForSequenceClassification.from_pretrained('bert-base-uncased', num_labels=3)\n"
   ]
  },
  {
   "cell_type": "code",
   "execution_count": 6,
   "metadata": {},
   "outputs": [],
   "source": [
    "class JobDataset(Dataset):\n",
    "    def __init__(self, encodings, labels):\n",
    "        self.encodings = encodings\n",
    "        self.labels = labels\n",
    "\n",
    "    def __getitem__(self, idx):\n",
    "        item = {key: torch.tensor(val[idx], dtype=torch.long) for key, val in self.encodings.items()}\n",
    "        item['labels'] = torch.tensor(self.labels[idx], dtype=torch.long)\n",
    "        return item\n",
    "\n",
    "    def __len__(self):\n",
    "        return len(self.labels)\n"
   ]
  },
  {
   "cell_type": "code",
   "execution_count": 7,
   "metadata": {},
   "outputs": [],
   "source": [
    "import pandas as pd\n",
    "import ast\n",
    "from sklearn.preprocessing import LabelEncoder\n",
    "\n",
    "# Load your preprocessed data\n",
    "train_df = pd.read_csv('train_data.csv')\n",
    "valid_df = pd.read_csv('valid_data.csv')\n",
    "\n",
    "# Ensure input_ids and attention_mask are lists of integers\n",
    "train_df['input_ids'] = train_df['input_ids'].apply(ast.literal_eval)\n",
    "train_df['attention_mask'] = train_df['attention_mask'].apply(ast.literal_eval)\n",
    "valid_df['input_ids'] = valid_df['input_ids'].apply(ast.literal_eval)\n",
    "valid_df['attention_mask'] = valid_df['attention_mask'].apply(ast.literal_eval)\n",
    "\n",
    "# Combine labels from both datasets to ensure all labels are seen during fitting\n",
    "all_labels = pd.concat([train_df['Role Category'], valid_df['Role Category']])\n",
    "\n",
    "# Encode the 'Role Category' column to integers\n",
    "label_encoder = LabelEncoder()\n",
    "label_encoder.fit(all_labels)\n",
    "\n",
    "train_df['Role Category'] = label_encoder.transform(train_df['Role Category'])\n",
    "valid_df['Role Category'] = label_encoder.transform(valid_df['Role Category'])\n",
    "\n",
    "# Prepare the data\n",
    "train_encodings = {'input_ids': train_df['input_ids'].tolist(), 'attention_mask': train_df['attention_mask'].tolist()}\n",
    "valid_encodings = {'input_ids': valid_df['input_ids'].tolist(), 'attention_mask': valid_df['attention_mask'].tolist()}\n",
    "\n",
    "# Extract labels\n",
    "train_labels = train_df['Role Category'].tolist()\n",
    "valid_labels = valid_df['Role Category'].tolist()\n",
    "\n",
    "train_dataset = JobDataset(train_encodings, train_labels)\n",
    "valid_dataset = JobDataset(valid_encodings, valid_labels)\n"
   ]
  },
  {
   "cell_type": "code",
   "execution_count": 8,
   "metadata": {},
   "outputs": [],
   "source": [
    "# Create DataLoader\n",
    "train_loader = DataLoader(train_dataset, batch_size=16, shuffle=True)\n",
    "valid_loader = DataLoader(valid_dataset, batch_size=16, shuffle=False)\n"
   ]
  },
  {
   "cell_type": "code",
   "execution_count": 9,
   "metadata": {},
   "outputs": [
    {
     "name": "stderr",
     "output_type": "stream",
     "text": [
      "/Library/Frameworks/Python.framework/Versions/3.10/lib/python3.10/site-packages/transformers/optimization.py:640: FutureWarning: This implementation of AdamW is deprecated and will be removed in a future version. Use the PyTorch implementation torch.optim.AdamW instead, or set `no_deprecation_warning=True` to disable this warning\n",
      "  warnings.warn(\n"
     ]
    }
   ],
   "source": [
    "# Training setup\n",
    "device = torch.device('cuda') if torch.cuda.is_available() else torch.device('cpu')\n",
    "model.to(device)\n",
    "model.train()\n",
    "\n",
    "optim = AdamW(model.parameters(), lr=5e-5)\n"
   ]
  },
  {
   "cell_type": "code",
   "execution_count": 1,
   "metadata": {},
   "outputs": [
    {
     "name": "stderr",
     "output_type": "stream",
     "text": [
      "/Library/Frameworks/Python.framework/Versions/3.10/lib/python3.10/site-packages/tqdm/auto.py:21: TqdmWarning: IProgress not found. Please update jupyter and ipywidgets. See https://ipywidgets.readthedocs.io/en/stable/user_install.html\n",
      "  from .autonotebook import tqdm as notebook_tqdm\n",
      "Some weights of BertForSequenceClassification were not initialized from the model checkpoint at bert-base-uncased and are newly initialized: ['classifier.bias', 'classifier.weight']\n",
      "You should probably TRAIN this model on a down-stream task to be able to use it for predictions and inference.\n",
      "/Library/Frameworks/Python.framework/Versions/3.10/lib/python3.10/site-packages/transformers/optimization.py:640: FutureWarning: This implementation of AdamW is deprecated and will be removed in a future version. Use the PyTorch implementation torch.optim.AdamW instead, or set `no_deprecation_warning=True` to disable this warning\n",
      "  warnings.warn(\n"
     ]
    },
    {
     "ename": "NameError",
     "evalue": "name 'accuracy_score' is not defined",
     "output_type": "error",
     "traceback": [
      "\u001b[0;31m---------------------------------------------------------------------------\u001b[0m",
      "\u001b[0;31mNameError\u001b[0m                                 Traceback (most recent call last)",
      "Cell \u001b[0;32mIn[1], line 94\u001b[0m\n\u001b[1;32m     91\u001b[0m             valid_preds\u001b[38;5;241m.\u001b[39mextend(torch\u001b[38;5;241m.\u001b[39margmax(logits, dim\u001b[38;5;241m=\u001b[39m\u001b[38;5;241m1\u001b[39m)\u001b[38;5;241m.\u001b[39mcpu()\u001b[38;5;241m.\u001b[39mnumpy())\n\u001b[1;32m     92\u001b[0m             valid_labels\u001b[38;5;241m.\u001b[39mextend(labels\u001b[38;5;241m.\u001b[39mcpu()\u001b[38;5;241m.\u001b[39mnumpy())\n\u001b[0;32m---> 94\u001b[0m     valid_accuracy \u001b[38;5;241m=\u001b[39m \u001b[43maccuracy_score\u001b[49m(valid_labels, valid_preds)\n\u001b[1;32m     95\u001b[0m     \u001b[38;5;28mprint\u001b[39m(\u001b[38;5;124mf\u001b[39m\u001b[38;5;124m'\u001b[39m\u001b[38;5;124mEpoch \u001b[39m\u001b[38;5;132;01m{\u001b[39;00mepoch\u001b[38;5;250m \u001b[39m\u001b[38;5;241m+\u001b[39m\u001b[38;5;250m \u001b[39m\u001b[38;5;241m1\u001b[39m\u001b[38;5;132;01m}\u001b[39;00m\u001b[38;5;124m, Validation Accuracy: \u001b[39m\u001b[38;5;132;01m{\u001b[39;00mvalid_accuracy\u001b[38;5;132;01m}\u001b[39;00m\u001b[38;5;124m'\u001b[39m)\n\u001b[1;32m     97\u001b[0m \u001b[38;5;28mprint\u001b[39m(\u001b[38;5;124m\"\u001b[39m\u001b[38;5;124mTraining complete.\u001b[39m\u001b[38;5;124m\"\u001b[39m)\n",
      "\u001b[0;31mNameError\u001b[0m: name 'accuracy_score' is not defined"
     ]
    }
   ],
   "source": [
    "import pandas as pd\n",
    "import ast\n",
    "from sklearn.preprocessing import LabelEncoder\n",
    "from transformers import BertForSequenceClassification, BertTokenizer, AdamW\n",
    "import torch\n",
    "from torch.utils.data import DataLoader, Dataset\n",
    "\n",
    "# Define a custom dataset\n",
    "class JobDataset(Dataset):\n",
    "    def __init__(self, encodings, labels):\n",
    "        self.encodings = encodings\n",
    "        self.labels = labels\n",
    "\n",
    "    def __getitem__(self, idx):\n",
    "        item = {key: torch.tensor(val[idx], dtype=torch.long) for key, val in self.encodings.items()}\n",
    "        item['labels'] = torch.tensor(self.labels[idx], dtype=torch.long)\n",
    "        return item\n",
    "\n",
    "    def __len__(self):\n",
    "        return len(self.labels)\n",
    "\n",
    "# Load your preprocessed data\n",
    "train_df = pd.read_csv('train_data.csv')\n",
    "valid_df = pd.read_csv('valid_data.csv')\n",
    "\n",
    "# Ensure input_ids and attention_mask are lists of integers\n",
    "train_df['input_ids'] = train_df['input_ids'].apply(ast.literal_eval)\n",
    "train_df['attention_mask'] = train_df['attention_mask'].apply(ast.literal_eval)\n",
    "valid_df['input_ids'] = valid_df['input_ids'].apply(ast.literal_eval)\n",
    "valid_df['attention_mask'] = valid_df['attention_mask'].apply(ast.literal_eval)\n",
    "\n",
    "# Combine labels from both datasets to ensure all labels are seen during fitting\n",
    "all_labels = pd.concat([train_df['Role Category'], valid_df['Role Category']])\n",
    "\n",
    "# Encode the 'Role Category' column to integers\n",
    "label_encoder = LabelEncoder()\n",
    "label_encoder.fit(all_labels)\n",
    "\n",
    "train_df['Role Category'] = label_encoder.transform(train_df['Role Category'])\n",
    "valid_df['Role Category'] = label_encoder.transform(valid_df['Role Category'])\n",
    "\n",
    "# Prepare the data\n",
    "train_encodings = {'input_ids': train_df['input_ids'].tolist(), 'attention_mask': train_df['attention_mask'].tolist()}\n",
    "valid_encodings = {'input_ids': valid_df['input_ids'].tolist(), 'attention_mask': valid_df['attention_mask'].tolist()}\n",
    "\n",
    "# Extract labels\n",
    "train_labels = train_df['Role Category'].tolist()\n",
    "valid_labels = valid_df['Role Category'].tolist()\n",
    "\n",
    "train_dataset = JobDataset(train_encodings, train_labels)\n",
    "valid_dataset = JobDataset(valid_encodings, valid_labels)\n",
    "\n",
    "# Load the tokenizer and model\n",
    "tokenizer = BertTokenizer.from_pretrained('bert-base-uncased')\n",
    "model = BertForSequenceClassification.from_pretrained('bert-base-uncased', num_labels=len(label_encoder.classes_))\n",
    "\n",
    "# Create DataLoader\n",
    "train_loader = DataLoader(train_dataset, batch_size=16, shuffle=True)\n",
    "valid_loader = DataLoader(valid_dataset, batch_size=16, shuffle=False)\n",
    "\n",
    "# Training setup\n",
    "device = torch.device('cuda') if torch.cuda.is_available() else torch.device('cpu')\n",
    "model.to(device)\n",
    "model.train()\n",
    "\n",
    "optim = AdamW(model.parameters(), lr=5e-5)\n",
    "\n",
    "# Training loop\n",
    "for epoch in range(3):  # Number of epochs\n",
    "    model.train()\n",
    "    for batch in train_loader:\n",
    "        optim.zero_grad()\n",
    "        input_ids = batch['input_ids'].to(device)\n",
    "        attention_mask = batch['attention_mask'].to(device)\n",
    "        labels = batch['labels'].to(device)\n",
    "        outputs = model(input_ids, attention_mask=attention_mask, labels=labels)\n",
    "        loss = outputs.loss\n",
    "        loss.backward()\n",
    "        optim.step()\n",
    "\n",
    "    # Validation\n",
    "    model.eval()\n",
    "    valid_preds, valid_labels = [], []\n",
    "    with torch.no_grad():\n",
    "        for batch in valid_loader:\n",
    "            input_ids = batch['input_ids'].to(device)\n",
    "            attention_mask = batch['attention_mask'].to(device)\n",
    "            labels = batch['labels'].to(device)\n",
    "            outputs = model(input_ids, attention_mask=attention_mask)\n",
    "            logits = outputs.logits\n",
    "            valid_preds.extend(torch.argmax(logits, dim=1).cpu().numpy())\n",
    "            valid_labels.extend(labels.cpu().numpy())\n",
    "\n",
    "    valid_accuracy = accuracy_score(valid_labels, valid_preds)\n",
    "    print(f'Epoch {epoch + 1}, Validation Accuracy: {valid_accuracy}')\n",
    "\n",
    "print(\"Training complete.\")\n"
   ]
  }
 ],
 "metadata": {
  "kernelspec": {
   "display_name": "Python 3",
   "language": "python",
   "name": "python3"
  },
  "language_info": {
   "codemirror_mode": {
    "name": "ipython",
    "version": 3
   },
   "file_extension": ".py",
   "mimetype": "text/x-python",
   "name": "python",
   "nbconvert_exporter": "python",
   "pygments_lexer": "ipython3",
   "version": "3.10.11"
  }
 },
 "nbformat": 4,
 "nbformat_minor": 2
}
