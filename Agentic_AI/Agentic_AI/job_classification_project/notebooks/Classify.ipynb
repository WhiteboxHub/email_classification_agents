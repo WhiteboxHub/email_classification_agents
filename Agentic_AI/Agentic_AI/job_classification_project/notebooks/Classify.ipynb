{
 "cells": [
  {
   "cell_type": "code",
   "execution_count": 3,
   "metadata": {},
   "outputs": [
    {
     "name": "stderr",
     "output_type": "stream",
     "text": [
      "Some weights of BertForSequenceClassification were not initialized from the model checkpoint at bert-base-uncased and are newly initialized: ['classifier.bias', 'classifier.weight']\n",
      "You should probably TRAIN this model on a down-stream task to be able to use it for predictions and inference.\n"
     ]
    },
    {
     "name": "stdout",
     "output_type": "stream",
     "text": [
      "Classification completed and saved!\n"
     ]
    }
   ],
   "source": [
    "import pandas as pd\n",
    "import torch\n",
    "from transformers import BertTokenizer, BertForSequenceClassification\n",
    "from torch.nn.functional import softmax\n",
    "\n",
    "# Load pre-trained BERT model (fine-tuned on job classification)\n",
    "MODEL_NAME = \"bert-base-uncased\"  # Replace with actual model path or Hugging Face model\n",
    "\n",
    "tokenizer = BertTokenizer.from_pretrained(MODEL_NAME)\n",
    "model = BertForSequenceClassification.from_pretrained(MODEL_NAME)\n",
    "model.eval()\n",
    "\n",
    "# Load email data\n",
    "csv_file = \"/Users/innovapathinc/Downloads/Agentic_AI/Agentic_AI/job_classification_project/data/emails.csv\"  # Update with actual CSV file\n",
    "emails_df = pd.read_csv(csv_file)\n",
    "\n",
    "# Job categories\n",
    "categories = [\"ML\", \"UI\", \"QA\"]\n",
    "\n",
    "# Keyword-based fallback if LLM confidence is low\n",
    "keywords = {\n",
    "    \"ML\": [\"pytorch\", \"tensorflow\", \"ai\", \"deep learning\", \"machine learning\"],\n",
    "    \"UI\": [\"react\", \"figma\", \"html\", \"css\", \"ux/ui\"],\n",
    "    \"QA\": [\"selenium\", \"test automation\", \"software testing\"]\n",
    "}\n",
    "\n",
    "def classify_email(subject, body):\n",
    "    text = f\"{subject} {body}\"\n",
    "    inputs = tokenizer(text, return_tensors=\"pt\", padding=True, truncation=True, max_length=512)\n",
    "    with torch.no_grad():\n",
    "        outputs = model(**inputs)\n",
    "    scores = softmax(outputs.logits, dim=1).numpy()[0]\n",
    "    \n",
    "    # Use LLM classification\n",
    "    category = categories[scores.argmax()]\n",
    "    confidence = scores.max()\n",
    "    \n",
    "    # Fallback to keyword matching if confidence is low\n",
    "    if confidence < 0.6:\n",
    "        for cat, words in keywords.items():\n",
    "            if any(word in text.lower() for word in words):\n",
    "                return cat\n",
    "    \n",
    "    return category\n",
    "\n",
    "# Apply classification\n",
    "emails_df[\"Category\"] = emails_df.apply(lambda row: classify_email(row[\"Subject\"], row[\"Body\"]), axis=1)\n",
    "\n",
    "# Save results\n",
    "emails_df.to_csv(\"classified_emails.csv\", index=False)\n",
    "print(\"Classification completed and saved!\")\n"
   ]
  }
 ],
 "metadata": {
  "kernelspec": {
   "display_name": "Python 3",
   "language": "python",
   "name": "python3"
  },
  "language_info": {
   "codemirror_mode": {
    "name": "ipython",
    "version": 3
   },
   "file_extension": ".py",
   "mimetype": "text/x-python",
   "name": "python",
   "nbconvert_exporter": "python",
   "pygments_lexer": "ipython3",
   "version": "3.10.11"
  }
 },
 "nbformat": 4,
 "nbformat_minor": 2
}
