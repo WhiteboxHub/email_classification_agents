{
 "cells": [
  {
   "cell_type": "code",
   "execution_count": null,
   "metadata": {},
   "outputs": [],
   "source": [
    "import imaplib\n",
    "import email\n",
    "from email.header import decode_header\n",
    "\n",
    "# Gmail IMAP settings\n",
    "IMAP_SERVER = \"imap.gmail.com\"\n",
    "IMAP_PORT = 993\n",
    "EMAIL_ACCOUNT = \"sampler@gmail.com\"\n",
    "EMAIL_PASSWORD = \"zbgoaahzhvbtmwim\" \n",
    "def fetch_emails():\n",
    "    \"\"\"Fetch emails using IMAP.\"\"\"\n",
    "    try:\n",
    "        \n",
    "        mail = imaplib.IMAP4_SSL(IMAP_SERVER, IMAP_PORT)\n",
    "        mail.login(EMAIL_ACCOUNT, EMAIL_PASSWORD)\n",
    "\n",
    "       \n",
    "        mail.select(\"inbox\")\n",
    "\n",
    "        # Search for all emails\n",
    "        status, messages = mail.search(None, \"ALL\")  # You can use 'UNSEEN' for unread emails\n",
    "\n",
    "        email_ids = messages[0].split()\n",
    "\n",
    "        print(f\"Total Emails: {len(email_ids)}\")\n",
    "\n",
    "        for email_id in email_ids[-10:]:\n",
    "            status, msg_data = mail.fetch(email_id, \"(RFC822)\")\n",
    "\n",
    "            for response_part in msg_data:\n",
    "                if isinstance(response_part, tuple):\n",
    "                    msg = email.message_from_bytes(response_part[1])\n",
    "\n",
    "                    subject, encoding = decode_header(msg[\"Subject\"])[0]\n",
    "                    if isinstance(subject, bytes):\n",
    "                        subject = subject.decode(encoding or \"utf-8\")\n",
    "\n",
    "                    sender, encoding = decode_header(msg.get(\"From\"))[0]\n",
    "                    if isinstance(sender, bytes):\n",
    "                        sender = sender.decode(encoding or \"utf-8\")\n",
    "\n",
    "                    print(f\"\\nFrom: {sender}\")\n",
    "                    print(f\"Subject: {subject}\")\n",
    "\n",
    "                    if msg.is_multipart():\n",
    "                        for part in msg.walk():\n",
    "                            content_type = part.get_content_type()\n",
    "                            content_disposition = str(part.get(\"Content-Disposition\"))\n",
    "\n",
    "                           \n",
    "                            if content_type == \"text/plain\" and \"attachment\" not in content_disposition:\n",
    "                                body = part.get_payload(decode=True).decode()\n",
    "                                print(f\"Body:\\n{body[:300]}...\") \n",
    "                    else:\n",
    "                        body = msg.get_payload(decode=True).decode()\n",
    "                        print(f\"Body:\\n{body[:300]}...\")\n",
    "\n",
    "        mail.logout()\n",
    "    \n",
    "    except Exception as e:\n",
    "        print(f\"Error: {e}\")\n",
    "\n",
    "fetch_emails()\n"
   ]
  },
  {
   "cell_type": "code",
   "execution_count": null,
   "metadata": {},
   "outputs": [
    {
     "name": "stdout",
     "output_type": "stream",
     "text": [
      "Emails saved to emails.csv\n"
     ]
    },
    {
     "data": {
      "text/plain": [
       "('BYE', [b'LOGOUT Requested'])"
      ]
     },
     "execution_count": 26,
     "metadata": {},
     "output_type": "execute_result"
    }
   ],
   "source": [
    "import imaplib\n",
    "import email\n",
    "import csv\n",
    "\n",
    "\n",
    "IMAP_SERVER = \"imap.gmail.com\"\n",
    "EMAIL_ID = \"sampler@gmail.com\"\n",
    "PASSWORD = \"zbgoaahzhvbtmwim\"\n",
    "\n",
    "\n",
    "mail = imaplib.IMAP4_SSL(IMAP_SERVER)\n",
    "mail.login(EMAIL_ID, PASSWORD)\n",
    "mail.select(\"inbox\")\n",
    "\n",
    "\n",
    "status, messages = mail.search(None, \"ALL\")\n",
    "email_ids = messages[0].split()[-5:]  \n",
    "\n",
    "emails = []  \n",
    "\n",
    "for email_id in email_ids:\n",
    "    status, msg_data = mail.fetch(email_id, \"(RFC822)\")\n",
    "    \n",
    "    for response_part in msg_data:\n",
    "        if isinstance(response_part, tuple):\n",
    "            msg = email.message_from_bytes(response_part[1])\n",
    "            sender = msg[\"From\"]\n",
    "            subject = msg[\"Subject\"]\n",
    "\n",
    "            if msg.is_multipart():\n",
    "                body = \"\"\n",
    "                for part in msg.walk():\n",
    "                    if part.get_content_type() == \"text/plain\":\n",
    "                        body = part.get_payload(decode=True).decode(\"utf-8\", errors=\"ignore\")\n",
    "                        break\n",
    "            else:\n",
    "                body = msg.get_payload(decode=True).decode(\"utf-8\", errors=\"ignore\")\n",
    "\n",
    "            emails.append({\"sender\": sender, \"subject\": subject, \"body\": body[:]})  # Limit body preview\n",
    "\n",
    "with open(\"emails.csv\", \"w\", newline=\"\", encoding=\"utf-8\") as file:\n",
    "    writer = csv.writer(file)\n",
    "    writer.writerow([\"Sender\", \"Subject\", \"Body\"])  # Header row\n",
    "\n",
    "    for email_data in emails:\n",
    "        writer.writerow([email_data[\"sender\"], email_data[\"subject\"], email_data[\"body\"]])\n",
    "\n",
    "print(\"Emails saved to emails.csv\")\n",
    "\n",
    "mail.logout()\n"
   ]
  },
  {
   "cell_type": "code",
   "execution_count": null,
   "metadata": {},
   "outputs": [],
   "source": []
  },
  {
   "cell_type": "code",
   "execution_count": null,
   "metadata": {},
   "outputs": [],
   "source": []
  }
 ],
 "metadata": {
  "kernelspec": {
   "display_name": "Python 3",
   "language": "python",
   "name": "python3"
  },
  "language_info": {
   "codemirror_mode": {
    "name": "ipython",
    "version": 3
   },
   "file_extension": ".py",
   "mimetype": "text/x-python",
   "name": "python",
   "nbconvert_exporter": "python",
   "pygments_lexer": "ipython3",
   "version": "3.10.11"
  }
 },
 "nbformat": 4,
 "nbformat_minor": 2
}
